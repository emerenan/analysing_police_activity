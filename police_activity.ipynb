{
  "nbformat": 4,
  "nbformat_minor": 0,
  "metadata": {
    "colab": {
      "name": "police_activity.ipynb",
      "provenance": [],
      "collapsed_sections": [],
      "authorship_tag": "ABX9TyMeYtl5NW8Ii2Qothjz6GL4",
      "include_colab_link": true
    },
    "kernelspec": {
      "name": "python3",
      "display_name": "Python 3"
    }
  },
  "cells": [
    {
      "cell_type": "markdown",
      "metadata": {
        "id": "view-in-github",
        "colab_type": "text"
      },
      "source": [
        "<a href=\"https://colab.research.google.com/github/emerenan/analysing_police_activity/blob/master/police_activity.ipynb\" target=\"_parent\"><img src=\"https://colab.research.google.com/assets/colab-badge.svg\" alt=\"Open In Colab\"/></a>"
      ]
    },
    {
      "cell_type": "code",
      "metadata": {
        "id": "-_jlTb_ZPqS5",
        "colab_type": "code",
        "colab": {
          "base_uri": "https://localhost:8080/",
          "height": 158
        },
        "outputId": "3ae5aea3-40d7-4cae-d96e-4d301a56877a"
      },
      "source": [
        "import pandas as pd\n",
        "\n",
        "# Método para leitura dos dados\n",
        "def readfile(path):\n",
        "    \"\"\" Método para ler os dados do arquivo e retornar um dataframe.\n",
        "    Args: \\n\n",
        "        path: localização do arquivo que será lido. \\n\n",
        "\n",
        "    Returns: \\n\n",
        "        Dataframe contendo os dados para analise.\n",
        "\n",
        "    Raises: \\n\n",
        "        ParserError: retorna as linhas que não puderam ser lidas.\n",
        "    \"\"\"\n",
        "\n",
        "    try:\n",
        "        df = pd.read_csv(path, error_bad_lines=False, warn_bad_lines=True, parse_dates=True, infer_datetime_format=True)\n",
        "        \"\"\"\n",
        "        print(df.head())\n",
        "        print('-----------------------------------------------------------------------')\n",
        "        print(df.isnull().sum())\n",
        "        print('-----------------------------------------------------------------------')\n",
        "        print(df.info())\n",
        "        print('-----------------------------------------------------------------------')\n",
        "        \"\"\"\n",
        "        return df\n",
        "    except pd.io.common.ParserError:\n",
        "        print(\"Dados não puderam ser lidos\")\n",
        "\n",
        "# lendo o arquivo e salvando na variavel data\n",
        "data = readfile('/content/police.csv')\n",
        "\n",
        "dict = {}\n",
        "for label, entry in data.isnull().sum().items():\n",
        "    # Salvando a forma do dataframe na variavel t\n",
        "    t = data.shape\n",
        "    # Salvando a qtd de linhas na variavel rows\n",
        "    rows = t[0]\n",
        "\n",
        "    if entry == rows or entry >= rows/2:\n",
        "        data.drop(label, axis='columns', inplace=True)\n",
        "        if label in dict.keys():\n",
        "            dict[label] += \"Deletada\"\n",
        "        else:\n",
        "            dict[label] = \"Deletada\"\n",
        "\"\"\"\n",
        "for key, value in dict.items():\n",
        "    if value == 0:\n",
        "        print(\"Não houve colunas deletadas!\")\n",
        "    else:\n",
        "        print(key, \": \", value)\n",
        "\"\"\"\n",
        "print('Apagando colunas null!')\n",
        "print('-----------------------------------------------------------------------')\n",
        "# Apagando todas as linhas do dataframe, com base nas linhas NUll da coluna driver_gender\n",
        "print(data.shape) #antes de apagar\n",
        "data.dropna(subset=['driver_gender'], inplace=True)\n",
        "print(data.shape) #depois de apagado\n",
        "print('Apagando linhas Null com base na coluna driver_gender!')\n",
        "print('-----------------------------------------------------------------------')\n",
        "\n",
        "# Analisando os tipos de dados do Dataframe para alterar o dtype\n",
        "data.is_arrested = data.is_arrested.astype('bool')\n",
        "\n",
        "# combinando stop_date com stop_time e convertendo para string\n",
        "dates = data.stop_date.str.cat(data.stop_time, sep=' ')\n",
        "\n",
        "# Criando a coluna stop_datetime e convertendo os valores para datetime\n",
        "data['stop_datetime'] = pd.to_datetime(dates)\n",
        "\n",
        "# Trocando a coluna stop_datetime como index do dataframe\n",
        "data.set_index('stop_datetime', inplace=True)\n",
        "\n",
        "print('Tratamento de tipos de dados do Dataframe.')\n",
        "print('-----------------------------------------------------------------------')\n",
        "\n"
      ],
      "execution_count": 78,
      "outputs": [
        {
          "output_type": "stream",
          "text": [
            "Apagando colunas null!\n",
            "-----------------------------------------------------------------------\n",
            "(91741, 13)\n",
            "(86536, 13)\n",
            "Apagando linhas Null com base na coluna driver_gender!\n",
            "-----------------------------------------------------------------------\n",
            "Tratamento de tipos de dados do Dataframe.\n",
            "-----------------------------------------------------------------------\n"
          ],
          "name": "stdout"
        }
      ]
    }
  ]
}