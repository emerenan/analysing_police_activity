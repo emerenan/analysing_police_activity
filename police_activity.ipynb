{
  "nbformat": 4,
  "nbformat_minor": 0,
  "metadata": {
    "colab": {
      "name": "police_activity.ipynb",
      "provenance": [],
      "authorship_tag": "ABX9TyOYOhO7alJW6t0Uk9CfKp/K",
      "include_colab_link": true
    },
    "kernelspec": {
      "name": "python3",
      "display_name": "Python 3"
    }
  },
  "cells": [
    {
      "cell_type": "markdown",
      "metadata": {
        "id": "view-in-github",
        "colab_type": "text"
      },
      "source": [
        "<a href=\"https://colab.research.google.com/github/emerenan/analysing_police_activity/blob/master/police_activity.ipynb\" target=\"_parent\"><img src=\"https://colab.research.google.com/assets/colab-badge.svg\" alt=\"Open In Colab\"/></a>"
      ]
    },
    {
      "cell_type": "code",
      "metadata": {
        "id": "-_jlTb_ZPqS5",
        "colab_type": "code",
        "colab": {
          "base_uri": "https://localhost:8080/",
          "height": 727
        },
        "outputId": "0e8d10ca-d24e-411f-81ec-4df160024455"
      },
      "source": [
        "import pandas as pd\n",
        "\n",
        "def readfile(path):\n",
        "    \"\"\" Método para ler os dados do arquivo e retornar um dataframe.\n",
        "    Args: \\n\n",
        "        path: localização do arquivo que será lido. \\n\n",
        "\n",
        "    Returns: \\n\n",
        "        Dataframe contendo os dados para analise.\n",
        "\n",
        "    Raises: \\n\n",
        "        ParserError: retorna as linhas que não puderam ser lidas.\n",
        "    \"\"\"\n",
        "\n",
        "    try:\n",
        "        df = pd.read_csv(path, error_bad_lines=False, warn_bad_lines=True, parse_dates=True, infer_datetime_format=True)\n",
        "        print(df.head())\n",
        "        print(df.info())\n",
        "        print(df.describe())\n",
        "        return df\n",
        "    except pd.io.common.ParserError:\n",
        "        print(\"Dados não puderam ser lidos\")\n",
        "\n",
        "data = readfile('/content/police.csv')"
      ],
      "execution_count": 11,
      "outputs": [
        {
          "output_type": "stream",
          "text": [
            "  state   stop_date stop_time  ...  stop_duration drugs_related_stop district\n",
            "0    RI  2005-01-04     12:55  ...       0-15 Min              False  Zone X4\n",
            "1    RI  2005-01-23     23:15  ...       0-15 Min              False  Zone K3\n",
            "2    RI  2005-02-17     04:15  ...       0-15 Min              False  Zone X4\n",
            "3    RI  2005-02-20     17:15  ...      16-30 Min              False  Zone X1\n",
            "4    RI  2005-02-24     01:20  ...       0-15 Min              False  Zone X3\n",
            "\n",
            "[5 rows x 15 columns]\n",
            "<class 'pandas.core.frame.DataFrame'>\n",
            "RangeIndex: 91741 entries, 0 to 91740\n",
            "Data columns (total 15 columns):\n",
            " #   Column              Non-Null Count  Dtype  \n",
            "---  ------              --------------  -----  \n",
            " 0   state               91741 non-null  object \n",
            " 1   stop_date           91741 non-null  object \n",
            " 2   stop_time           91741 non-null  object \n",
            " 3   county_name         0 non-null      float64\n",
            " 4   driver_gender       86536 non-null  object \n",
            " 5   driver_race         86539 non-null  object \n",
            " 6   violation_raw       86539 non-null  object \n",
            " 7   violation           86539 non-null  object \n",
            " 8   search_conducted    91741 non-null  bool   \n",
            " 9   search_type         3307 non-null   object \n",
            " 10  stop_outcome        86539 non-null  object \n",
            " 11  is_arrested         86539 non-null  object \n",
            " 12  stop_duration       86539 non-null  object \n",
            " 13  drugs_related_stop  91741 non-null  bool   \n",
            " 14  district            91741 non-null  object \n",
            "dtypes: bool(2), float64(1), object(12)\n",
            "memory usage: 9.3+ MB\n",
            "None\n",
            "       county_name\n",
            "count          0.0\n",
            "mean           NaN\n",
            "std            NaN\n",
            "min            NaN\n",
            "25%            NaN\n",
            "50%            NaN\n",
            "75%            NaN\n",
            "max            NaN\n"
          ],
          "name": "stdout"
        }
      ]
    }
  ]
}